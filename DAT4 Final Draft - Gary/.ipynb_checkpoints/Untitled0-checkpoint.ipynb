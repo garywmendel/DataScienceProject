{
 "metadata": {
  "name": "",
  "signature": "sha256:9bf521143b9022c45f37c096d5784dc6a74873d858272a3c204912e56b98d9ca"
 },
 "nbformat": 3,
 "nbformat_minor": 0,
 "worksheets": [
  {
   "cells": [
    {
     "cell_type": "code",
     "collapsed": false,
     "input": [],
     "language": "python",
     "metadata": {},
     "outputs": []
    }
   ],
   "metadata": {}
  }
 ]
}