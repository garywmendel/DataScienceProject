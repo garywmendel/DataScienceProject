{
 "metadata": {
  "kernelspec": {
   "display_name": "Python 2",
   "language": "python",
   "name": "python2"
  },
  "language_info": {
   "codemirror_mode": {
    "name": "ipython",
    "version": 2
   },
   "file_extension": ".py",
   "mimetype": "text/x-python",
   "name": "python",
   "nbconvert_exporter": "python",
   "pygments_lexer": "ipython2",
   "version": "2.7.8"
  },
  "name": "",
  "signature": "sha256:35f98c6e5a29b01004865a37ff2a8eaa5c69991eb7c8fe4ac5fdaf6e6b08709f"
 },
 "nbformat": 3,
 "nbformat_minor": 0,
 "worksheets": [
  {
   "cells": [
    {
     "cell_type": "heading",
     "level": 1,
     "metadata": {},
     "source": [
      "Yopine Natural Content Categories"
     ]
    },
    {
     "cell_type": "markdown",
     "metadata": {},
     "source": [
      "What are the natural content 'Categories' that have been created via app usage?"
     ]
    },
    {
     "cell_type": "markdown",
     "metadata": {},
     "source": [
      "All content is presented in \u2018Explore\u2019 view today simply chronological.  Users shouldn\u2019t have to sift through content that is of no interest to them.  Everything we need to know is contained in the questions and the responses.  "
     ]
    },
    {
     "cell_type": "markdown",
     "metadata": {},
     "source": [
      "The goal is to let Machine Learning do that work."
     ]
    },
    {
     "cell_type": "markdown",
     "metadata": {},
     "source": [
      "There is one table in the Yopine schema that contains all relevant data:  POLL\n",
      "https://www.dropbox.com/s/6l2o2mitruef5x7/PollTable.png?dl=0"
     ]
    },
    {
     "cell_type": "markdown",
     "metadata": {},
     "source": [
      "There are two columns in the POLL table that contains all relevant data:  pollQuestion & pollAnswer\n",
      "https://www.dropbox.com/s/xwjin2qehkuoixu/PollTableCols.png?dl=0"
     ]
    },
    {
     "cell_type": "markdown",
     "metadata": {},
     "source": [
      "Here is the data file\n",
      "https://www.dropbox.com/s/iql221nnoyk8ntf/poll3.csv?dl=0"
     ]
    },
    {
     "cell_type": "raw",
     "metadata": {},
     "source": [
      "Sample pollQuestion:  \n",
      "\n",
      "'Fitness: What's your jam?' (row 4241)"
     ]
    },
    {
     "cell_type": "raw",
     "metadata": {},
     "source": [
      "Sample pollAnswer:  \n",
      "\n",
      "[ { \"ansId\" : 1424014758471, \"answerText\" : \"Weights\", \"createdAt\" : { \"$date\" : 1424014758471 }, \"name\" : \"Yopine\", \"orderNumber\" : 1, \"userId\" : 1409219254212, \"userImage\" : 1409219254212, \"voteCount\" : 54, \"votes\" :...1409554814352, \"userId\" : 1409219253839, \"name\" : \"Kevin\", \"userImage\" : 1409219253839, \"createdAt\" : { \"$date\" : 1424035073536 } }, { \"inviteeId\" : 1418956032816, \"userId\" : 1418956032322, \"name\" : \"Dallas0908\", \"userImage\" : 1418956032322, \"createdAt\" : { \"$date\" : 1424063721989 } } ] }, \n",
      "\n",
      "{ \"ansId\" : 1424014758472, \"answerText\" : \"Yoga\", \"createdAt\" : { \"$date\" : 1424014758471 }, \"name\" : \"Yopine\", \"orderNumber\" : 2, \"userId\" : 1409219254212, \"userImage\" : 1409219254212, \"voteCount\" : 42, \"votes\" : \n",
      "\n",
      "{\"ansId\" : 1424014756823, \"answerText\" : \"Running\", \"createdAt\" : { \"$date\" : 1424014758471 }, \"name\" : \"Yopine\", \"orderNumber\" : 3, \"userId\" : 1409219254212, \"userImage\" : 1409219254212, \"voteCount\" : 17, \"votes\" : \n",
      "\n",
      "{ \"ansId\" : 1424014758474, \"answerText\" : \"Claases\", \"createdAt\" : { \"$date\" : 1424014758471 }, \"name\" : \"Yopine\", \"orderNumber\" : 4, \"userId\" : 1409219254212, \"userImage\" : 1409219254212, \"voteCount\" : 8, \"votes\" :  1424014758475, \n",
      "\n",
      "{ \"ansId\" : 1424014398274, \"answerText\" : \"Other ->\", \"createdAt\" : { \"$date\" : 1424014758471 }, \"name\" : \"Yopine\", \"orderNumber\" : 5, \"userId\" : 1409219254212, \"userImage\" : 1409219254212, \"voteCount\" : 2, \"votes\" :  } ] } ] ] } ]"
     ]
    },
    {
     "cell_type": "markdown",
     "metadata": {},
     "source": [
      "There are two places from which to draw the the data that might contain the natural categories:\n",
      "1.  pollQuestion is nice and easy...it's just a string of natural language\n",
      "    in the example the string 'Fitness: What's your jam?' - we want 'Fitness'\n",
      "2.  pollAnswer requires some crafty parsing as the relevant data is buried in each record in the field \"answerText\"\n",
      "    in the example dictionary we want 'Weights', 'Yoga', 'Running', 'Classes' and 'Other ->'."
     ]
    },
    {
     "cell_type": "heading",
     "level": 4,
     "metadata": {},
     "source": [
      "We might also like (perhaps a future endeavor) to add weight to \"answerText\" by applying its corresponding \"voteCount\" integer."
     ]
    },
    {
     "cell_type": "heading",
     "level": 4,
     "metadata": {},
     "source": [
      "The first step is to create the dataframe"
     ]
    },
    {
     "cell_type": "code",
     "collapsed": false,
     "input": [
      "from sklearn.cluster import KMeans\n",
      "import matplotlib.pyplot as plt\n",
      "from sklearn import datasets\n",
      "import pandas as pd\n",
      "import numpy as np\n"
     ],
     "language": "python",
     "metadata": {},
     "outputs": []
    },
    {
     "cell_type": "code",
     "collapsed": false,
     "input": [
      "# Import Yopine data\n",
      "data = pd.read_csv('poll3.csv') # create df 'data' using pandas read csv\n",
      "d = data\n",
      "d = d.dropna()\n",
      "d"
     ],
     "language": "python",
     "metadata": {
      "scrolled": false
     },
     "outputs": []
    },
    {
     "cell_type": "markdown",
     "metadata": {},
     "source": [
      "Brennan reviewed and organized the DF into groups (categories) - poll3_grouped.csv \n",
      "https://www.dropbox.com/s/kv7mjndpxa291x3/poll3_grouped.csv?dl=0\n",
      "\n",
      "He added the 'a _groups' column to it and organized it into animals, anyone, books, brands, business, celebrity, class, coffee, contest, dancing, donate, drinks, fashion, favorites, food, games, gear, health, hobbies, holidays, home, jobs, joke, love, meetup, mood, movies, music, news, outdoors, party, places, plans, politics, religion, rides, school, shopping, smoke, social, sports, startups, tech, test, travel, tv, weather;\n",
      "+ 1657 rows un-categorized."
     ]
    },
    {
     "cell_type": "heading",
     "level": 4,
     "metadata": {},
     "source": [
      "LDA for Natural Language Processing - I want to create a repeatable model that, given any pollAnswer or pollQuestion"
     ]
    },
    {
     "cell_type": "code",
     "collapsed": false,
     "input": [
      "import lda\n",
      "import numpy as np # not able to import LDA\n",
      "from sklearn.feature_extraction.text import CountVectorizer, TfidfVectorizer\n",
      "sentences = list(d.pollQuestion)#[\"Fitness: What's your jam?\", \"where should we eat tonight\", ]\n",
      "\n",
      "# Instantiate a count vectorizer with two additional parameters\n",
      "vect = CountVectorizer(stop_words='english', ngram_range=[1,3]) \n",
      "sentences_train = vect.fit_transform(sentences)\n",
      "\n",
      "# Instantiate an LDA model\n",
      "model = lda.LDA(n_topics=10, n_iter=500)\n",
      "model.fit(sentences_train) # Fit the model \n",
      "n_top_words = 10\n",
      "topic_word = model.topic_word_\n",
      "for i, topic_dist in enumerate(topic_word):\n",
      "    topic_words = np.array(vect.get_feature_names())[np.argsort(topic_dist)][:-n_top_words:-1]\n",
      "    print('Topic {}: {}'.format(i, ', '.join(topic_words).encode('utf-8')))\n",
      "\n"
     ],
     "language": "python",
     "metadata": {
      "scrolled": true
     },
     "outputs": []
    },
    {
     "cell_type": "heading",
     "level": 4,
     "metadata": {},
     "source": [
      "The next (future) process to be applied is k-means and TDIFvectorizer"
     ]
    },
    {
     "cell_type": "code",
     "collapsed": false,
     "input": [
      "# import TFIDF vectorizer\n",
      "from sklearn.feature_extraction.text import TfidfVectorizer\n",
      "\n",
      "# pollAnswer field is a JSON object\n",
      "# read the Sony pollAnswer into an object called 'sony'\n",
      "import json\n",
      "# code to look at one single record\n",
      "# sony = json.loads(data.pollAnswer[3881])\n",
      "# Need to extract sentence(s) list from data\n",
      "\n",
      "# iterate to create 2 lists, poll and answer then write them to questions and answers:\n",
      "# data.head()\n",
      "#for i in range(0,len(data)):\n",
      "#    poll = json.loads(data.pollAnswer[i])\n",
      "#    print data.pollQuestion[i]\n",
      "#    poll_tally = {}\n",
      "#    for answer in poll:\n",
      "#         key = answer['answerText']\n",
      "#         if 'votes' in answer.keys():\n",
      "#             value = len(answer['votes'])\n",
      "#         poll_tally[key] = value\n",
      "#    print poll_tally\n",
      "# json.loads(data.pollAnswer[0])\n",
      "# questions = data.pollQuestion\n",
      "# answers = [' '.join([b['answerText'] for b in json.loads(a)]) for a in data.pollAnswer]\n",
      "#for q, a in zip(questions, answers):\n",
      "#    print q, a"
     ],
     "language": "python",
     "metadata": {},
     "outputs": []
    },
    {
     "cell_type": "markdown",
     "metadata": {},
     "source": [
      "K-means _ TDIDFvectorizer - to group similar data in to sets (clustering) "
     ]
    },
    {
     "cell_type": "code",
     "collapsed": false,
     "input": [
      "# sentence_list=[data]  \n",
      "# Need to dump this into a new df\n",
      "\n",
      "# sentence_list=['hello how are you', \"I am doing great\", \"my name is abc\"]\n",
      "\n",
      "vectorizer=TfidfVectorizer(min_df=1, max_df=0.9, stop_words='english', decode_error='ignore')\n",
      "vectorized=vectorizer.fit_transform(answers)\n",
      "# vectorized=vectorizer.fit_transform(questions)\n",
      "\n",
      "km=KMeans(n_clusters=3, init='k-means++',n_init=10)\n",
      "km.fit(vectorized)\n",
      "print vectorized\n",
      "\n",
      "# i now need to take the tfidf scores and interpret them\n",
      "\n",
      "km.labels_\n",
      "\n",
      "# Stuck here - types i believe\n",
      "km.predict(vectorizer.fit_transform(answers))\n",
      "km.predict(vectorizer.fit_transform(questions))\n",
      "\n",
      "# Run KMeans\n",
      "est = KMeans(n_clusters=3, init='random')\n",
      "# need to remove non strings from data first\n",
      "\n",
      "est.fit(d) \n",
      "y_kmeans = est.predict(d)"
     ],
     "language": "python",
     "metadata": {},
     "outputs": []
    },
    {
     "cell_type": "heading",
     "level": 4,
     "metadata": {},
     "source": [
      "I would like some output in the form of pollQuestion in - dataframe table & pollAnswer in -> dataframe table that i can add to my slide presentation."
     ]
    },
    {
     "cell_type": "heading",
     "level": 2,
     "metadata": {},
     "source": [
      "DAT4-FinalProj slides - https://www.dropbox.com/s/on072oij3p4jlno/DAT4-FinalProj.pptx?dl=0"
     ]
    }
   ],
   "metadata": {}
  }
 ]
}