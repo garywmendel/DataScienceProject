{
 "metadata": {
  "name": "",
  "signature": "sha256:4668562f0ecc3243d3a27d630faa9d6e28b9f771c822661e3d7f74c7700bd7bd"
 },
 "nbformat": 3,
 "nbformat_minor": 0,
 "worksheets": []
}